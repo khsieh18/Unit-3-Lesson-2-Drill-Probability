{
 "cells": [
  {
   "cell_type": "code",
   "execution_count": 3,
   "metadata": {},
   "outputs": [],
   "source": [
    "#Question 1\n",
    "# The probability of flipping a head or tail is equal to 0.5.\n",
    "# Hence, the probability is 0.5 ^ 4 = 0.0625"
   ]
  },
  {
   "cell_type": "code",
   "execution_count": 4,
   "metadata": {},
   "outputs": [],
   "source": [
    "#Question 2\n",
    "# The probability of choosing a women(not a man) is 24/25."
   ]
  },
  {
   "cell_type": "code",
   "execution_count": 5,
   "metadata": {},
   "outputs": [],
   "source": [
    "#Question 3\n",
    "# The pabability of Bernice will be in a plane crash in the next year\n",
    "# = The probability of Bernice will travel by plane next year x the probability of plan crash at any time\n",
    "# = 10% x 0.005%\n",
    "# = 0.0005%"
   ]
  },
  {
   "cell_type": "code",
   "execution_count": 6,
   "metadata": {},
   "outputs": [],
   "source": [
    "#Question 4\n",
    "# The survey result is indicating the average surfing time of those who took the survey.\n",
    "# The result does not include the people who surf the site, but not participate the survey."
   ]
  }
 ],
 "metadata": {
  "kernelspec": {
   "display_name": "Python 3",
   "language": "python",
   "name": "python3"
  },
  "language_info": {
   "codemirror_mode": {
    "name": "ipython",
    "version": 3
   },
   "file_extension": ".py",
   "mimetype": "text/x-python",
   "name": "python",
   "nbconvert_exporter": "python",
   "pygments_lexer": "ipython3",
   "version": "3.7.0"
  }
 },
 "nbformat": 4,
 "nbformat_minor": 2
}
